{
 "cells": [
  {
   "cell_type": "code",
   "execution_count": 45,
   "id": "initial_id",
   "metadata": {
    "collapsed": true,
    "ExecuteTime": {
     "end_time": "2023-09-17T20:09:45.185446400Z",
     "start_time": "2023-09-17T20:09:45.176015600Z"
    }
   },
   "outputs": [],
   "source": [
    "import pandas as pd\n",
    "import numpy as np\n",
    "from sklearn.model_selection import train_test_split\n",
    "\n",
    "import re\n",
    "import torch \n",
    "import torch.nn as nn\n",
    "import matplotlib.pyplot as plt\n"
   ]
  },
  {
   "cell_type": "code",
   "execution_count": 2,
   "outputs": [
    {
     "data": {
      "text/plain": "   polarity of tweet  id of the tweet             date of the tweet     query  \\\n0                  0       1467810672  Mon Apr 06 22:19:49 PDT 2009  NO_QUERY   \n1                  0       1467810917  Mon Apr 06 22:19:53 PDT 2009  NO_QUERY   \n2                  0       1467811184  Mon Apr 06 22:19:57 PDT 2009  NO_QUERY   \n3                  0       1467811193  Mon Apr 06 22:19:57 PDT 2009  NO_QUERY   \n4                  0       1467811372  Mon Apr 06 22:20:00 PDT 2009  NO_QUERY   \n\n            user                                  text of the tweet  \n0  scotthamilton  is upset that he can't update his Facebook by ...  \n1       mattycus  @Kenichan I dived many times for the ball. Man...  \n2        ElleCTF    my whole body feels itchy and like its on fire   \n3         Karoli  @nationwideclass no, it's not behaving at all....  \n4       joy_wolf                      @Kwesidei not the whole crew   ",
      "text/html": "<div>\n<style scoped>\n    .dataframe tbody tr th:only-of-type {\n        vertical-align: middle;\n    }\n\n    .dataframe tbody tr th {\n        vertical-align: top;\n    }\n\n    .dataframe thead th {\n        text-align: right;\n    }\n</style>\n<table border=\"1\" class=\"dataframe\">\n  <thead>\n    <tr style=\"text-align: right;\">\n      <th></th>\n      <th>polarity of tweet</th>\n      <th>id of the tweet</th>\n      <th>date of the tweet</th>\n      <th>query</th>\n      <th>user</th>\n      <th>text of the tweet</th>\n    </tr>\n  </thead>\n  <tbody>\n    <tr>\n      <th>0</th>\n      <td>0</td>\n      <td>1467810672</td>\n      <td>Mon Apr 06 22:19:49 PDT 2009</td>\n      <td>NO_QUERY</td>\n      <td>scotthamilton</td>\n      <td>is upset that he can't update his Facebook by ...</td>\n    </tr>\n    <tr>\n      <th>1</th>\n      <td>0</td>\n      <td>1467810917</td>\n      <td>Mon Apr 06 22:19:53 PDT 2009</td>\n      <td>NO_QUERY</td>\n      <td>mattycus</td>\n      <td>@Kenichan I dived many times for the ball. Man...</td>\n    </tr>\n    <tr>\n      <th>2</th>\n      <td>0</td>\n      <td>1467811184</td>\n      <td>Mon Apr 06 22:19:57 PDT 2009</td>\n      <td>NO_QUERY</td>\n      <td>ElleCTF</td>\n      <td>my whole body feels itchy and like its on fire</td>\n    </tr>\n    <tr>\n      <th>3</th>\n      <td>0</td>\n      <td>1467811193</td>\n      <td>Mon Apr 06 22:19:57 PDT 2009</td>\n      <td>NO_QUERY</td>\n      <td>Karoli</td>\n      <td>@nationwideclass no, it's not behaving at all....</td>\n    </tr>\n    <tr>\n      <th>4</th>\n      <td>0</td>\n      <td>1467811372</td>\n      <td>Mon Apr 06 22:20:00 PDT 2009</td>\n      <td>NO_QUERY</td>\n      <td>joy_wolf</td>\n      <td>@Kwesidei not the whole crew</td>\n    </tr>\n  </tbody>\n</table>\n</div>"
     },
     "execution_count": 2,
     "metadata": {},
     "output_type": "execute_result"
    }
   ],
   "source": [
    "df = pd.read_csv('dataset1m.csv', encoding_errors='ignore')\n",
    "df.head()"
   ],
   "metadata": {
    "collapsed": false,
    "ExecuteTime": {
     "end_time": "2023-09-17T19:50:58.806205900Z",
     "start_time": "2023-09-17T19:50:53.028326900Z"
    }
   },
   "id": "80346e8cfdea38b7"
  },
  {
   "cell_type": "code",
   "execution_count": 3,
   "outputs": [],
   "source": [
    "def clean_text(text):\n",
    "    text = text.lower()\n",
    "    text = re.sub(r\"i'm\", \"i am\", text)\n",
    "    text = re.sub(r\"he's\", \"he is\", text)\n",
    "    text = re.sub(r\"she's\", \"she is\", text)\n",
    "    text = re.sub(r\"what's\", \"what is\", text)\n",
    "    text = re.sub(r\"where's\", \"where is\", text)\n",
    "    # text = re.sub(r\"'s\", \" is\", text)\n",
    "\n",
    "    text = re.sub(r\"'ll\", \" will\", text)\n",
    "    text = re.sub(r\"'ve\", \" have\", text)\n",
    "    text = re.sub(r\"'re\", \" are\", text)\n",
    "    text = re.sub(r\"'d\", \" would\", text)\n",
    "    text = re.sub(r\"won't\", \"will not\", text)\n",
    "    text = re.sub(r\"can't\", \"cannot\", text)\n",
    "    text = re.sub(r\"[-()\\\"#/@;:<>{}+=~|.?,]\", \"\", text)\n",
    "    return text"
   ],
   "metadata": {
    "collapsed": false,
    "ExecuteTime": {
     "end_time": "2023-09-17T19:50:58.945330200Z",
     "start_time": "2023-09-17T19:50:58.880715500Z"
    }
   },
   "id": "87043b6aacf73cda"
  },
  {
   "cell_type": "code",
   "execution_count": 6,
   "outputs": [],
   "source": [
    "df['clean_text'] = df['text of the tweet'].apply(clean_text)"
   ],
   "metadata": {
    "collapsed": false,
    "ExecuteTime": {
     "end_time": "2023-09-17T19:52:12.128491600Z",
     "start_time": "2023-09-17T19:51:52.953029Z"
    }
   },
   "id": "f9d7844f7586aa7c"
  },
  {
   "cell_type": "code",
   "execution_count": 8,
   "outputs": [
    {
     "data": {
      "text/plain": "   polarity of tweet  id of the tweet             date of the tweet     query  \\\n0                  0       1467810672  Mon Apr 06 22:19:49 PDT 2009  NO_QUERY   \n1                  0       1467810917  Mon Apr 06 22:19:53 PDT 2009  NO_QUERY   \n2                  0       1467811184  Mon Apr 06 22:19:57 PDT 2009  NO_QUERY   \n3                  0       1467811193  Mon Apr 06 22:19:57 PDT 2009  NO_QUERY   \n4                  0       1467811372  Mon Apr 06 22:20:00 PDT 2009  NO_QUERY   \n\n            user                                  text of the tweet  \\\n0  scotthamilton  is upset that he can't update his Facebook by ...   \n1       mattycus  @Kenichan I dived many times for the ball. Man...   \n2        ElleCTF    my whole body feels itchy and like its on fire    \n3         Karoli  @nationwideclass no, it's not behaving at all....   \n4       joy_wolf                      @Kwesidei not the whole crew    \n\n                                          clean_text  \n0  is upset that he cannot update his facebook by...  \n1  kenichan i dived many times for the ball manag...  \n2    my whole body feels itchy and like its on fire   \n3  nationwideclass no it's not behaving at all i ...  \n4                       kwesidei not the whole crew   ",
      "text/html": "<div>\n<style scoped>\n    .dataframe tbody tr th:only-of-type {\n        vertical-align: middle;\n    }\n\n    .dataframe tbody tr th {\n        vertical-align: top;\n    }\n\n    .dataframe thead th {\n        text-align: right;\n    }\n</style>\n<table border=\"1\" class=\"dataframe\">\n  <thead>\n    <tr style=\"text-align: right;\">\n      <th></th>\n      <th>polarity of tweet</th>\n      <th>id of the tweet</th>\n      <th>date of the tweet</th>\n      <th>query</th>\n      <th>user</th>\n      <th>text of the tweet</th>\n      <th>clean_text</th>\n    </tr>\n  </thead>\n  <tbody>\n    <tr>\n      <th>0</th>\n      <td>0</td>\n      <td>1467810672</td>\n      <td>Mon Apr 06 22:19:49 PDT 2009</td>\n      <td>NO_QUERY</td>\n      <td>scotthamilton</td>\n      <td>is upset that he can't update his Facebook by ...</td>\n      <td>is upset that he cannot update his facebook by...</td>\n    </tr>\n    <tr>\n      <th>1</th>\n      <td>0</td>\n      <td>1467810917</td>\n      <td>Mon Apr 06 22:19:53 PDT 2009</td>\n      <td>NO_QUERY</td>\n      <td>mattycus</td>\n      <td>@Kenichan I dived many times for the ball. Man...</td>\n      <td>kenichan i dived many times for the ball manag...</td>\n    </tr>\n    <tr>\n      <th>2</th>\n      <td>0</td>\n      <td>1467811184</td>\n      <td>Mon Apr 06 22:19:57 PDT 2009</td>\n      <td>NO_QUERY</td>\n      <td>ElleCTF</td>\n      <td>my whole body feels itchy and like its on fire</td>\n      <td>my whole body feels itchy and like its on fire</td>\n    </tr>\n    <tr>\n      <th>3</th>\n      <td>0</td>\n      <td>1467811193</td>\n      <td>Mon Apr 06 22:19:57 PDT 2009</td>\n      <td>NO_QUERY</td>\n      <td>Karoli</td>\n      <td>@nationwideclass no, it's not behaving at all....</td>\n      <td>nationwideclass no it's not behaving at all i ...</td>\n    </tr>\n    <tr>\n      <th>4</th>\n      <td>0</td>\n      <td>1467811372</td>\n      <td>Mon Apr 06 22:20:00 PDT 2009</td>\n      <td>NO_QUERY</td>\n      <td>joy_wolf</td>\n      <td>@Kwesidei not the whole crew</td>\n      <td>kwesidei not the whole crew</td>\n    </tr>\n  </tbody>\n</table>\n</div>"
     },
     "execution_count": 8,
     "metadata": {},
     "output_type": "execute_result"
    }
   ],
   "source": [
    "df.head()"
   ],
   "metadata": {
    "collapsed": false,
    "ExecuteTime": {
     "end_time": "2023-09-17T19:52:19.651887200Z",
     "start_time": "2023-09-17T19:52:19.610556700Z"
    }
   },
   "id": "e1e66653c5ecdac"
  },
  {
   "cell_type": "code",
   "execution_count": 35,
   "outputs": [],
   "source": [
    "int2label = {0: 'negative',\n",
    "             2: 'neutral',\n",
    "             4: 'positive'}"
   ],
   "metadata": {
    "collapsed": false,
    "ExecuteTime": {
     "end_time": "2023-09-17T20:04:52.976432Z",
     "start_time": "2023-09-17T20:04:52.963982700Z"
    }
   },
   "id": "886f3b80717d6dc4"
  },
  {
   "cell_type": "code",
   "execution_count": 9,
   "outputs": [],
   "source": [
    "class Tokenizer:\n",
    "    def __init__(self):\n",
    "        self.word2count = {}\n",
    "        self.tokens = ['<PAD>', '<EOS>', '<OUT>', '<SOS>']\n",
    "        \n",
    "        \n",
    "        self.word2id = {e: i for i, e in enumerate(self.tokens)}\n",
    "        self.id2word = {i: e for i, e in enumerate(self.tokens)}\n",
    "        \n",
    "        self.word2count_thresh = {}\n",
    "        \n",
    "    def add_word(self, word):\n",
    "        self.add_count(word)\n",
    "        \n",
    "        if word in self.word2id:\n",
    "            return\n",
    "        \n",
    "        self.word2id[word] = len(self.word2id)\n",
    "        self.id2word[self.word2id[word]] = word\n",
    "        \n",
    "    def add_count(self, word):\n",
    "        if word in self.word2count:\n",
    "            self.word2count[word] += 1\n",
    "        else:\n",
    "            self.word2count[word] = 1\n",
    "            \n",
    "    def drop_words_below_thresh(self, threshold=15):\n",
    "        self.word2count_thresh = {k: v for k, v in self.word2count.items() if v > threshold}\n",
    "        \n",
    "            \n",
    "tokenizer = Tokenizer()\n"
   ],
   "metadata": {
    "collapsed": false,
    "ExecuteTime": {
     "end_time": "2023-09-17T19:52:27.465594500Z",
     "start_time": "2023-09-17T19:52:27.441265Z"
    }
   },
   "id": "31368cec38a98462"
  },
  {
   "cell_type": "code",
   "execution_count": 42,
   "outputs": [
    {
     "name": "stdout",
     "output_type": "stream",
     "text": [
      "['is upset that he cannot update his facebook by texting it and might cry as a result  school today also blah!'\n",
      " 'kenichan i dived many times for the ball managed to save 50%  the rest go out of bounds'\n",
      " 'my whole body feels itchy and like its on fire ' ...\n",
      " 'shadela same here  say it like from the terminiator movies comes off like just 3 words d'\n",
      " 'destinyhope92 im great thaanks  wbuu'\n",
      " 'cant wait til her date this weekend ']\n"
     ]
    },
    {
     "data": {
      "text/plain": "array([0., 0., 0., ..., 2., 2., 2.])"
     },
     "execution_count": 42,
     "metadata": {},
     "output_type": "execute_result"
    }
   ],
   "source": [
    "X = df['clean_text'].values\n",
    "Y = df['polarity of tweet'].values / 2\n",
    "print(X)\n",
    "Y"
   ],
   "metadata": {
    "collapsed": false,
    "ExecuteTime": {
     "end_time": "2023-09-17T20:07:43.007214600Z",
     "start_time": "2023-09-17T20:07:42.968415300Z"
    }
   },
   "id": "4f1a044e6a36e78e"
  },
  {
   "cell_type": "code",
   "execution_count": 12,
   "outputs": [],
   "source": [
    "for text in X:\n",
    "    words_arr = str(text).strip().split()\n",
    "    for word in words_arr:\n",
    "        tokenizer.add_word(word)"
   ],
   "metadata": {
    "collapsed": false,
    "ExecuteTime": {
     "end_time": "2023-09-17T19:57:51.975549800Z",
     "start_time": "2023-09-17T19:54:59.258616100Z"
    }
   },
   "id": "e3a959d5eb0aee9c"
  },
  {
   "cell_type": "code",
   "execution_count": 13,
   "outputs": [],
   "source": [
    "sorted_word2count = sorted(tokenizer.word2count, key=lambda x: tokenizer.word2count[x], reverse=True)"
   ],
   "metadata": {
    "collapsed": false,
    "ExecuteTime": {
     "end_time": "2023-09-17T19:58:04.855948200Z",
     "start_time": "2023-09-17T19:58:04.441917600Z"
    }
   },
   "id": "92d99eacbb0ead7f"
  },
  {
   "cell_type": "code",
   "execution_count": 14,
   "outputs": [
    {
     "data": {
      "text/plain": "<Figure size 640x480 with 1 Axes>",
      "image/png": "[encoded data removed]"
     },
     "metadata": {},
     "output_type": "display_data"
    }
   ],
   "source": [
    "threshold = 5\n",
    "plt.hist([e for e in tokenizer.word2count.values() if e <= threshold], density=False, log=True)\n",
    "plt.show()"
   ],
   "metadata": {
    "collapsed": false,
    "ExecuteTime": {
     "end_time": "2023-09-17T19:58:08.869837500Z",
     "start_time": "2023-09-17T19:58:04.854945900Z"
    }
   },
   "id": "54d13daf1fe18670"
  },
  {
   "cell_type": "code",
   "execution_count": 15,
   "outputs": [],
   "source": [
    "tokenizer.drop_words_below_thresh(threshold=threshold)"
   ],
   "metadata": {
    "collapsed": false,
    "ExecuteTime": {
     "end_time": "2023-09-17T19:58:08.982693700Z",
     "start_time": "2023-09-17T19:58:08.863830Z"
    }
   },
   "id": "900d2c2f2890ff87"
  },
  {
   "cell_type": "code",
   "execution_count": 16,
   "outputs": [
    {
     "name": "stdout",
     "output_type": "stream",
     "text": [
      "0.08402843357250651\n",
      "55346\n",
      "658658\n"
     ]
    }
   ],
   "source": [
    "print(len(tokenizer.word2count_thresh) / len(tokenizer.word2count))\n",
    "print(len(tokenizer.word2count_thresh))\n",
    "print(len(tokenizer.word2count))"
   ],
   "metadata": {
    "collapsed": false,
    "ExecuteTime": {
     "end_time": "2023-09-17T19:58:08.999802100Z",
     "start_time": "2023-09-17T19:58:08.973662300Z"
    }
   },
   "id": "e133941eb05fd85c"
  },
  {
   "cell_type": "code",
   "execution_count": 48,
   "outputs": [],
   "source": [
    "tokenized_X = []\n",
    "\n",
    "for line in X:\n",
    "    token_line = [tokenizer.word2id[e] if e in tokenizer.word2id else tokenizer.word2id['<OUT>'] for e in line.split()]\n",
    "    token_line.append(tokenizer.word2id['<EOS>'])\n",
    "    tokenized_X.append(token_line)\n"
   ],
   "metadata": {
    "collapsed": false,
    "ExecuteTime": {
     "end_time": "2023-09-17T20:13:37.830480Z",
     "start_time": "2023-09-17T20:13:24.276279500Z"
    }
   },
   "id": "b1e51bc237f8c076"
  },
  {
   "cell_type": "code",
   "execution_count": 49,
   "outputs": [
    {
     "name": "stdout",
     "output_type": "stream",
     "text": [
      "[4, 5, 6, 7, 8, 9, 10, 11, 12, 13, 14, 15, 16, 17, 18, 19, 20, 21, 22, 23, 24, 1]\n",
      "[25, 26, 27, 28, 29, 30, 31, 32, 33, 34, 35, 36, 31, 37, 38, 39, 40, 41, 1]\n",
      "[42, 43, 44, 45, 46, 15, 47, 48, 49, 50, 1]\n",
      "[51, 52, 53, 54, 55, 56, 57, 26, 58, 59, 60, 58, 26, 61, 62, 26, 8, 63, 64, 57, 65, 66, 1]\n",
      "[67, 54, 31, 43, 68, 1]\n",
      "[69, 19, 70, 1]\n",
      "[71, 72, 73, 74, 52, 75, 76, 77, 19, 78, 79, 19, 78, 80, 26, 58, 81, 82, 83, 64, 1]\n",
      "[26, 84, 85, 42, 86, 1]\n",
      "[87, 26, 88, 89, 34, 90, 14, 15, 26, 91, 31, 92, 93, 94, 95, 1]\n",
      "[96, 14, 14, 97, 98, 60, 26, 99, 100, 64, 101, 102, 34, 103, 104, 1]\n"
     ]
    }
   ],
   "source": [
    "print(*tokenized_X[:10], sep=\"\\n\")"
   ],
   "metadata": {
    "collapsed": false,
    "ExecuteTime": {
     "end_time": "2023-09-17T20:13:37.836010900Z",
     "start_time": "2023-09-17T20:13:37.823275300Z"
    }
   },
   "id": "76bd76d58b3aa3fe"
  },
  {
   "cell_type": "code",
   "execution_count": 50,
   "outputs": [],
   "source": [
    "assert (len(tokenized_X) == len(Y))"
   ],
   "metadata": {
    "collapsed": false,
    "ExecuteTime": {
     "end_time": "2023-09-17T20:13:37.856078100Z",
     "start_time": "2023-09-17T20:13:37.837012100Z"
    }
   },
   "id": "8771f7a03a250943"
  },
  {
   "cell_type": "code",
   "execution_count": 115,
   "outputs": [],
   "source": [
    "class Model(nn.Module):\n",
    "\n",
    "    def __init__(self, input_size, hidden_size):\n",
    "        super(Model, self).__init__()\n",
    "\n",
    "        self.lstm_layer = nn.LSTM(input_size=input_size,\n",
    "                                  hidden_size=hidden_size,\n",
    "                                  num_layers=2,\n",
    "                                  dropout=.2,\n",
    "                                  bidirectional=False,\n",
    "                                  batch_first=True)\n",
    "        \n",
    "        self.fc = nn.Linear(hidden_size, 2)\n",
    "\n",
    "\n",
    "    def forward(self, X):\n",
    "        X, (h_n, c_n) = self.lstm_layer(X)\n",
    "        X = X[:, -1, :]\n",
    "        return self.fc(X)\n",
    "\n"
   ],
   "metadata": {
    "collapsed": false,
    "ExecuteTime": {
     "end_time": "2023-09-17T20:40:36.980748700Z",
     "start_time": "2023-09-17T20:40:36.907105700Z"
    }
   },
   "id": "896a6b9a30bdf0a1"
  },
  {
   "cell_type": "code",
   "execution_count": null,
   "outputs": [],
   "source": [],
   "metadata": {
    "collapsed": false
   },
   "id": "32f31a934be135dc"
  }
 ],
 "metadata": {
  "kernelspec": {
   "display_name": "Python 3",
   "language": "python",
   "name": "python3"
  },
  "language_info": {
   "codemirror_mode": {
    "name": "ipython",
    "version": 2
   },
   "file_extension": ".py",
   "mimetype": "text/x-python",
   "name": "python",
   "nbconvert_exporter": "python",
   "pygments_lexer": "ipython2",
   "version": "2.7.6"
  }
 },
 "nbformat": 4,
 "nbformat_minor": 5
}
